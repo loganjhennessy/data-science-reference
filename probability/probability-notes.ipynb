{
 "cells": [
  {
   "cell_type": "markdown",
   "metadata": {},
   "source": [
    "# Counting (a.k.a. combinatorics)"
   ]
  },
  {
   "cell_type": "code",
   "execution_count": null,
   "metadata": {
    "collapsed": true
   },
   "outputs": [],
   "source": []
  },
  {
   "cell_type": "markdown",
   "metadata": {},
   "source": [
    "# Permutations"
   ]
  },
  {
   "cell_type": "markdown",
   "metadata": {},
   "source": [
    "Permutations are for counting things when *order matters*.\n",
    "\n",
    "The thing to remember here is that, this is the natural way to count.\n",
    "\n",
    "Also remember this as, a \"combination\" lock should really be called a \"permutation\" lock.\n",
    "\n",
    "## Example\n",
    "\n",
    "If I want to know how many ways to arrange a line of 5 people from a group of 100, then I would want to know every permutation of that line. Every different ordering that is possible.\n",
    "\n",
    "So I begin drawing from 100.\n",
    "\n",
    "100 x 99 x 98 x 97 x 96 = 100! / (100 - 5)!"
   ]
  },
  {
   "cell_type": "code",
   "execution_count": null,
   "metadata": {
    "collapsed": true
   },
   "outputs": [],
   "source": []
  }
 ],
 "metadata": {
  "kernelspec": {
   "display_name": "Python 3",
   "language": "python",
   "name": "python3"
  },
  "language_info": {
   "codemirror_mode": {
    "name": "ipython",
    "version": 3
   },
   "file_extension": ".py",
   "mimetype": "text/x-python",
   "name": "python",
   "nbconvert_exporter": "python",
   "pygments_lexer": "ipython3",
   "version": "3.6.1"
  }
 },
 "nbformat": 4,
 "nbformat_minor": 2
}
